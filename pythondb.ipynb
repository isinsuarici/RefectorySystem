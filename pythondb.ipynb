{
 "cells": [
  {
   "cell_type": "code",
   "execution_count": 4,
   "id": "93f3ad79",
   "metadata": {},
   "outputs": [
    {
     "name": "stdout",
     "output_type": "stream",
     "text": [
      "(2, 'Cream Soups', Decimal('5.0000'), 1)\n",
      "(3, 'Chicken Soup', Decimal('6.0000'), 1)\n",
      "(4, 'Tomato Soups', Decimal('4.0000'), 1)\n",
      "(5, 'Mushroom Soups', Decimal('4.0000'), 1)\n",
      "(6, 'Lentil Soup', Decimal('4.0000'), 1)\n",
      "(7, 'Tarhana Soup', Decimal('4.0000'), 1)\n",
      "(8, 'Shepherd’s salad ', Decimal('5.0000'), 2)\n",
      "(9, 'Caesar Salad', Decimal('5.0000'), 2)\n",
      "(10, 'Purple Cabbage Salad', Decimal('5.0000'), 2)\n",
      "(11, 'Chicken Salad', Decimal('5.0000'), 2)\n",
      "(12, 'Russian Salad', Decimal('5.0000'), 2)\n",
      "(13, 'Zucchini Dish', Decimal('7.0000'), 3)\n",
      "(14, 'Aubergine Dish', Decimal('7.0000'), 3)\n",
      "(15, 'Green Beans Dish', Decimal('7.0000'), 3)\n",
      "(16, 'Lentil Dish', Decimal('7.0000'), 3)\n",
      "(17, 'Green Pea Dish', Decimal('8.0000'), 3)\n",
      "(18, 'Okra Dish', Decimal('5.0000'), 3)\n",
      "(19, 'Patato Dish', Decimal('6.0000'), 3)\n",
      "(20, 'Broad Bean Dish', Decimal('6.0000'), 3)\n",
      "(21, 'Reddish Shell Bean Dish', Decimal('6.0000'), 3)\n",
      "(22, 'Meat Stew ', Decimal('10.0000'), 4)\n",
      "(23, 'Meatball', Decimal('9.0000'), 4)\n",
      "(24, 'Okra with meat ', Decimal('8.0000'), 4)\n",
      "(25, 'Fish', Decimal('10.0000'), 4)\n",
      "(26, 'Sauteed meat', Decimal('10.0000'), 4)\n",
      "(27, 'Chicken', Decimal('7.0000'), 4)\n",
      "(28, 'Cola', Decimal('5.0000'), 5)\n",
      "(29, 'Ayran', Decimal('5.0000'), 5)\n",
      "(30, 'Lemonade', Decimal('5.0000'), 5)\n",
      "(31, 'Fruit juice', Decimal('5.0000'), 5)\n",
      "(32, 'Apple', Decimal('1.0000'), 6)\n",
      "(33, 'Orange', Decimal('1.0000'), 6)\n",
      "(34, 'Strawberry', Decimal('3.0000'), 6)\n",
      "(35, 'Banana', Decimal('2.0000'), 6)\n",
      "(36, 'Pear', Decimal('2.0000'), 6)\n",
      "(37, 'Apricot', Decimal('2.0000'), 6)\n",
      "(1041, 'ekmek', Decimal('5.0000'), 6)\n"
     ]
    }
   ],
   "source": [
    "#connect python to mssql\n",
    "\n",
    "import pyodbc \n",
    "\n",
    "conn = pyodbc.connect('Driver={SQL Server};'\n",
    "                      'Server=DESKTOP;'\n",
    "                      'Database=REFECTORY;'\n",
    "                      'Trusted_Connection=yes;')\n",
    "\n",
    "cursor = conn.cursor()\n",
    "cursor.execute('SELECT * FROM Product')\n",
    "\n",
    "for i in cursor:\n",
    "    print(i)"
   ]
  },
  {
   "cell_type": "code",
   "execution_count": null,
   "id": "d335461d",
   "metadata": {},
   "outputs": [],
   "source": []
  }
 ],
 "metadata": {
  "kernelspec": {
   "display_name": "Python 3",
   "language": "python",
   "name": "python3"
  },
  "language_info": {
   "codemirror_mode": {
    "name": "ipython",
    "version": 3
   },
   "file_extension": ".py",
   "mimetype": "text/x-python",
   "name": "python",
   "nbconvert_exporter": "python",
   "pygments_lexer": "ipython3",
   "version": "3.8.8"
  }
 },
 "nbformat": 4,
 "nbformat_minor": 5
}
